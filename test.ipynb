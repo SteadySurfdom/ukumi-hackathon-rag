{
 "cells": [
  {
   "cell_type": "code",
   "execution_count": 2,
   "metadata": {},
   "outputs": [],
   "source": [
    "from product_descriptor.run import run\n",
    "run(\"\")"
   ]
  },
  {
   "cell_type": "code",
   "execution_count": 5,
   "metadata": {},
   "outputs": [],
   "source": [
    "from product_descriptor.processing.post_processing.extract import extract_transcript,expand_information,get_product_info"
   ]
  },
  {
   "cell_type": "code",
   "execution_count": 7,
   "metadata": {},
   "outputs": [],
   "source": [
    "import os\n",
    "os.environ['h'] = 'hi'"
   ]
  },
  {
   "cell_type": "code",
   "execution_count": 9,
   "metadata": {},
   "outputs": [
    {
     "data": {
      "text/plain": [
       "'hi'"
      ]
     },
     "execution_count": 9,
     "metadata": {},
     "output_type": "execute_result"
    }
   ],
   "source": [
    "os.environ['h']"
   ]
  },
  {
   "cell_type": "code",
   "execution_count": 20,
   "metadata": {},
   "outputs": [],
   "source": [
    "data = extract_transcript(\"K5B2y_4Tu_k\")\n",
    "info = get_product_info(data)"
   ]
  },
  {
   "cell_type": "code",
   "execution_count": null,
   "metadata": {},
   "outputs": [],
   "source": [
    "print(expand_information(info))"
   ]
  },
  {
   "cell_type": "code",
   "execution_count": 1,
   "metadata": {},
   "outputs": [],
   "source": [
    "path_sample1 = \"product_descriptor/processing/post_processing/sample.txt\"\n",
    "path_sample2 = \"product_descriptor/processing/post_processing/sample2.txt\"\n",
    "\n",
    "with open(path_sample1,\"r\") as f:\n",
    "    report1 = f.read()\n",
    "with open(path_sample2,\"r\") as f:\n",
    "    report2 = f.read()"
   ]
  },
  {
   "cell_type": "code",
   "execution_count": 2,
   "metadata": {},
   "outputs": [],
   "source": [
    "product_comparision_prompt = \"\"\"You are an AI assistant specialized in generating product comparision sheets.\n",
    "You will get summarized review of two products and you have to neatly draft a tabular comparision sheet with pointers comparing the two products.\n",
    "The individual product summary sheets will contain the following detials:\n",
    "- pros\n",
    "- cons\n",
    "- specifications\n",
    "- key insights\n",
    "- reviewer opinion\n",
    "You have to compare them on the bases of these fields. Do a direct comparision and compare similar features and tell which is better in the tabular sheet.\n",
    "Do mention if any product has a feature that the other misses or have a specification that on paper is better than the other mention it in the comparision. For ex: Product a has s pen included, product b does not have a s pen\n",
    "Output Format:\n",
    "heading : which aspect of the product is being compared. Ex design, processesor, camera etc\n",
    "sidea : pointer for product a\n",
    "sideb : pointer for product b \n",
    "summary : a summary for the comparision which is better side a or b with reason. \n",
    "You must output a list containing each row for the comparision in the above format\n",
    "You must give each unique feature its own header. Do not concatinate two features/differences in one row.\n",
    "\"\"\"\n",
    "from dotenv import load_dotenv\n",
    "from pydantic import BaseModel\n",
    "from openai import OpenAI\n",
    "load_dotenv()\n",
    "client = OpenAI(api_key=st.secrets['openai'])\n",
    "\n",
    "class comparision(BaseModel):\n",
    "    heading : str\n",
    "    sidea : str\n",
    "    sideb : str\n",
    "    summary : str\n",
    "    \n",
    "class table(BaseModel):\n",
    "    rows : list[comparision]\n",
    "    \n",
    "\n",
    "completion = client.beta.chat.completions.parse(\n",
    "    model=\"gpt-4o-mini-2024-07-18\",\n",
    "    messages=[\n",
    "        {\"role\": \"system\", \"content\": product_comparision_prompt},\n",
    "        {\"role\": \"user\", \"content\": f\"PRODUCT 1 :\\n{report1} \\n\\n\\nPRODUCT 2 :\\n{report2}\"},\n",
    "    ],\n",
    "    response_format = table\n",
    ")\n",
    "product_info = completion.choices[0].message.parsed"
   ]
  },
  {
   "cell_type": "code",
   "execution_count": null,
   "metadata": {},
   "outputs": [],
   "source": [
    "for i in product_info.rows:\n",
    "    print(i.heading)\n",
    "    print(i.sidea)\n",
    "    print(i.sideb)\n",
    "    print(i.summary)\n",
    "    print()"
   ]
  },
  {
   "cell_type": "code",
   "execution_count": 1,
   "metadata": {},
   "outputs": [],
   "source": [
    "from product_descriptor.rag.chunk_handler import RecursiveCharacterTextSplitter\n",
    "text_splitter = RecursiveCharacterTextSplitter()\n",
    "chunks = text_splitter.txt_loader(id = \"K5B2y_4Tu_k\")"
   ]
  },
  {
   "cell_type": "code",
   "execution_count": null,
   "metadata": {},
   "outputs": [],
   "source": [
    "chunks"
   ]
  },
  {
   "cell_type": "code",
   "execution_count": 1,
   "metadata": {},
   "outputs": [],
   "source": [
    "from product_descriptor.rag.chatbot import create_embeddings\n",
    "embeddings = create_embeddings(\"K5B2y_4Tu_k\")"
   ]
  },
  {
   "cell_type": "code",
   "execution_count": 2,
   "metadata": {},
   "outputs": [],
   "source": [
    "embeddings"
   ]
  },
  {
   "cell_type": "code",
   "execution_count": null,
   "metadata": {},
   "outputs": [],
   "source": [
    "from product_descriptor.rag.chatbot import ask_question\n",
    "answer = ask_question(\"How is the design of new dell laptop\",ids = [\"K5B2y_4Tu_k\"])\n"
   ]
  },
  {
   "cell_type": "code",
   "execution_count": null,
   "metadata": {},
   "outputs": [],
   "source": [
    "answer.choices[0].message.content"
   ]
  },
  {
   "cell_type": "code",
   "execution_count": null,
   "metadata": {},
   "outputs": [],
   "source": []
  }
 ],
 "metadata": {
  "kernelspec": {
   "display_name": "env",
   "language": "python",
   "name": "python3"
  },
  "language_info": {
   "codemirror_mode": {
    "name": "ipython",
    "version": 3
   },
   "file_extension": ".py",
   "mimetype": "text/x-python",
   "name": "python",
   "nbconvert_exporter": "python",
   "pygments_lexer": "ipython3",
   "version": "3.10.14"
  }
 },
 "nbformat": 4,
 "nbformat_minor": 2
}
